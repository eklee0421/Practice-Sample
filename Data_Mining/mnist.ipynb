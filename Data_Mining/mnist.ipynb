{
  "nbformat": 4,
  "nbformat_minor": 0,
  "metadata": {
    "colab": {
      "name": "mnist.ipynb",
      "provenance": [],
      "authorship_tag": "ABX9TyNktLqgeeUhwuzbB+o89B33",
      "include_colab_link": true
    },
    "kernelspec": {
      "name": "python3",
      "display_name": "Python 3"
    },
    "accelerator": "GPU"
  },
  "cells": [
    {
      "cell_type": "markdown",
      "metadata": {
        "id": "view-in-github",
        "colab_type": "text"
      },
      "source": [
        "<a href=\"https://colab.research.google.com/github/eklee0421/Data_Mining/blob/master/mnist.ipynb\" target=\"_parent\"><img src=\"https://colab.research.google.com/assets/colab-badge.svg\" alt=\"Open In Colab\"/></a>"
      ]
    },
    {
      "cell_type": "code",
      "metadata": {
        "id": "YGdoLg2j9t03",
        "colab_type": "code",
        "colab": {}
      },
      "source": [
        "import tensorflow as tf\n",
        "from tensorflow.keras import datasets, layers, models"
      ],
      "execution_count": 0,
      "outputs": []
    },
    {
      "cell_type": "code",
      "metadata": {
        "id": "Bk1No9qY99m1",
        "colab_type": "code",
        "colab": {
          "base_uri": "https://localhost:8080/",
          "height": 34
        },
        "outputId": "c1f5716a-1794-43d6-e84f-81b05b02b5ed"
      },
      "source": [
        "#tensorflow version은 2점대 사용\n",
        "tf.__version__"
      ],
      "execution_count": 2,
      "outputs": [
        {
          "output_type": "execute_result",
          "data": {
            "text/plain": [
              "'2.2.0-rc3'"
            ]
          },
          "metadata": {
            "tags": []
          },
          "execution_count": 2
        }
      ]
    },
    {
      "cell_type": "code",
      "metadata": {
        "id": "m8yPjV13-fyO",
        "colab_type": "code",
        "colab": {
          "base_uri": "https://localhost:8080/",
          "height": 72
        },
        "outputId": "35a49bef-fa70-4662-f3ca-9da38c824d4c"
      },
      "source": [
        "#train_images와 test_images는 28*28 size = 문제\n",
        "#train_labels와 test_labels은 손글씨의 숫자가 무엇인지 알려주는 것 = 정답\n",
        "(train_images, train_labels), (test_images, test_labels) = datasets.mnist.load_data()"
      ],
      "execution_count": 3,
      "outputs": [
        {
          "output_type": "stream",
          "text": [
            "Downloading data from https://storage.googleapis.com/tensorflow/tf-keras-datasets/mnist.npz\n",
            "11493376/11490434 [==============================] - 0s 0us/step\n"
          ],
          "name": "stdout"
        }
      ]
    },
    {
      "cell_type": "code",
      "metadata": {
        "id": "7cmdOHn2-48m",
        "colab_type": "code",
        "colab": {
          "base_uri": "https://localhost:8080/",
          "height": 87
        },
        "outputId": "35b10754-37f6-46f3-8ce4-1c20b48c2202"
      },
      "source": [
        "''' \n",
        "0부터 9까지 10개의 숫자에 대한 손글씨 data를\n",
        "6만개의 data로 훈련 1만개의 data를 test\n",
        "'''\n",
        "print(\"train_images : \", train_images.shape)\n",
        "print(\"train_lables : \", train_labels.shape)\n",
        "print(\"test_images : \", test_images.shape)\n",
        "print(\"test_lables : \", test_labels.shape)"
      ],
      "execution_count": 4,
      "outputs": [
        {
          "output_type": "stream",
          "text": [
            "train_images :  (60000, 28, 28)\n",
            "train_lables :  (60000,)\n",
            "test_images :  (10000, 28, 28)\n",
            "test_lables :  (10000,)\n"
          ],
          "name": "stdout"
        }
      ]
    },
    {
      "cell_type": "code",
      "metadata": {
        "id": "65tEz4drAlAG",
        "colab_type": "code",
        "colab": {
          "base_uri": "https://localhost:8080/",
          "height": 282
        },
        "outputId": "3ebb2d79-75f6-4efc-e1fc-5639e3b32633"
      },
      "source": [
        "from matplotlib import pyplot as plt\n",
        "plt.imshow(train_images[12])  #12번째 이미지 출력 - 28*28 pixel\n",
        "print(\"그림 속 숫자: \", train_labels[12])"
      ],
      "execution_count": 5,
      "outputs": [
        {
          "output_type": "stream",
          "text": [
            "그림 속 숫자:  3\n"
          ],
          "name": "stdout"
        },
        {
          "output_type": "display_data",
          "data": {
            "image/png": "[encoded data removed]",
            "text/plain": [
              "<Figure size 432x288 with 1 Axes>"
            ]
          },
          "metadata": {
            "tags": [],
            "needs_background": "light"
          }
        }
      ]
    },
    {
      "cell_type": "code",
      "metadata": {
        "id": "V6n-8H1qBRUy",
        "colab_type": "code",
        "colab": {}
      },
      "source": [
        "#reshape 함수를 통해서 훈련에 적합한 모양으로 만들어준다\n",
        "train_images = train_images.reshape((60000, 28, 28, 1))\n",
        "test_images = test_images.reshape((10000, 28, 28, 1))"
      ],
      "execution_count": 0,
      "outputs": []
    },
    {
      "cell_type": "code",
      "metadata": {
        "id": "_zy_PnYbBjNC",
        "colab_type": "code",
        "colab": {}
      },
      "source": [
        "'''현재 data는 28*28로, 한 픽셀이 00부터 FF까지 채워져있다 \n",
        "   -> 이 수를 0부터 1 사이의 수로 만들어주기 위함!\n",
        "   -> 이렇게 만들면 학습을 더 빨리 하고, local_minimum에 빠지게 될 가능성 줄인다'''\n",
        "\n",
        "train_images, test_images = train_images / 255.0, test_images / 255.0"
      ],
      "execution_count": 0,
      "outputs": []
    },
    {
      "cell_type": "code",
      "metadata": {
        "id": "KAXlDISIBsZ5",
        "colab_type": "code",
        "colab": {}
      },
      "source": [
        "#훈련 할 모델 만들기\n",
        "#Conv2D()로 쌓고, MaxPooling2D 하는 것 반복 \n",
        "\n",
        "model = models.Sequential()\n",
        "#Conv2D(필터 수, 커널 사이즈, 활성화 함수, 들어가는 모양)\n",
        "model.add(layers.Conv2D(32, (3,3), activation='relu', input_shape=(28,28,1)))\n",
        "model.add(layers.MaxPooling2D((2,2)))\n",
        "#위의 output이 여기의 input으로 자동적으로 들어가므로 input 모양 따로 적어주지 않아도 된다\n",
        "model.add(layers.Conv2D(64, (3,3), activation='relu')) #input_shape 생략 가능\n",
        "model.add(layers.MaxPooling2D((2,2)))\n",
        "model.add(layers.Conv2D(64, (3,3), activation='relu'))\n",
        "model.add(layers.Flatten())\n",
        "model.add(layers.Dense(64, activation='relu'))\n",
        "model.add(layers.Dense(10, activation='softmax')) #마지막 output은 10개(0~9) 중 하나로 추측\n",
        "model.compile(optimizer = 'adam', loss = 'sparse_categorical_crossentropy', metrics=['accuracy'])"
      ],
      "execution_count": 0,
      "outputs": []
    },
    {
      "cell_type": "code",
      "metadata": {
        "id": "qUsYztMaGDGI",
        "colab_type": "code",
        "colab": {
          "base_uri": "https://localhost:8080/",
          "height": 439
        },
        "outputId": "6aba9fc8-64e0-4121-ce6e-f603a8265011"
      },
      "source": [
        "model.summary() #현재 모델의 모양 출력\n",
        "#한층 한층 쌓을 때마다 모양이 변하는 것을 확인 할 수 있다"
      ],
      "execution_count": 9,
      "outputs": [
        {
          "output_type": "stream",
          "text": [
            "Model: \"sequential\"\n",
            "_________________________________________________________________\n",
            "Layer (type)                 Output Shape              Param #   \n",
            "=================================================================\n",
            "conv2d (Conv2D)              (None, 26, 26, 32)        320       \n",
            "_________________________________________________________________\n",
            "max_pooling2d (MaxPooling2D) (None, 13, 13, 32)        0         \n",
            "_________________________________________________________________\n",
            "conv2d_1 (Conv2D)            (None, 11, 11, 64)        18496     \n",
            "_________________________________________________________________\n",
            "max_pooling2d_1 (MaxPooling2 (None, 5, 5, 64)          0         \n",
            "_________________________________________________________________\n",
            "conv2d_2 (Conv2D)            (None, 3, 3, 64)          36928     \n",
            "_________________________________________________________________\n",
            "flatten (Flatten)            (None, 576)               0         \n",
            "_________________________________________________________________\n",
            "dense (Dense)                (None, 64)                36928     \n",
            "_________________________________________________________________\n",
            "dense_1 (Dense)              (None, 10)                650       \n",
            "=================================================================\n",
            "Total params: 93,322\n",
            "Trainable params: 93,322\n",
            "Non-trainable params: 0\n",
            "_________________________________________________________________\n"
          ],
          "name": "stdout"
        }
      ]
    },
    {
      "cell_type": "code",
      "metadata": {
        "id": "4PvD5Ze3GLod",
        "colab_type": "code",
        "colab": {
          "base_uri": "https://localhost:8080/",
          "height": 210
        },
        "outputId": "85689df5-8867-4e28-f471-17f403bb232c"
      },
      "source": [
        "#만든_모델.fit(이미지, 정답, 몇번 훈련 할 것인지) -> 훈련한다\n",
        "model.fit(train_images, train_labels, epochs=5, batch_size=512)"
      ],
      "execution_count": 10,
      "outputs": [
        {
          "output_type": "stream",
          "text": [
            "Epoch 1/5\n",
            "118/118 [==============================] - 1s 9ms/step - loss: 0.5223 - accuracy: 0.8540\n",
            "Epoch 2/5\n",
            "118/118 [==============================] - 1s 8ms/step - loss: 0.1095 - accuracy: 0.9671\n",
            "Epoch 3/5\n",
            "118/118 [==============================] - 1s 8ms/step - loss: 0.0749 - accuracy: 0.9774\n",
            "Epoch 4/5\n",
            "118/118 [==============================] - 1s 8ms/step - loss: 0.0561 - accuracy: 0.9830\n",
            "Epoch 5/5\n",
            "118/118 [==============================] - 1s 8ms/step - loss: 0.0465 - accuracy: 0.9854\n"
          ],
          "name": "stdout"
        },
        {
          "output_type": "execute_result",
          "data": {
            "text/plain": [
              "<tensorflow.python.keras.callbacks.History at 0x7f1fd0085c88>"
            ]
          },
          "metadata": {
            "tags": []
          },
          "execution_count": 10
        }
      ]
    },
    {
      "cell_type": "code",
      "metadata": {
        "id": "dU1P73kMGpvT",
        "colab_type": "code",
        "colab": {
          "base_uri": "https://localhost:8080/",
          "height": 52
        },
        "outputId": "395925ed-7015-4557-f005-518715a2c55a"
      },
      "source": [
        "#model.evaluate(test_images, test_labels)\n",
        "test_loss, test_acc= model.evaluate(test_images, test_labels, verbose=2)\n",
        "print(test_acc) #정확도"
      ],
      "execution_count": 11,
      "outputs": [
        {
          "output_type": "stream",
          "text": [
            "313/313 - 1s - loss: 0.0383 - accuracy: 0.9881\n",
            "0.988099992275238\n"
          ],
          "name": "stdout"
        }
      ]
    },
    {
      "cell_type": "code",
      "metadata": {
        "id": "y58AgVlBHXDu",
        "colab_type": "code",
        "colab": {
          "base_uri": "https://localhost:8080/",
          "height": 125
        },
        "outputId": "22f9210f-f6d1-4d67-e148-341714184683"
      },
      "source": [
        "from google.colab import drive\n",
        "drive.mount('/gdrive') \n",
        "#링크 누른 뒤 사용하고 있는 아이디 로그인\n",
        "#코드 복사해서 붙여넣고 엔터 치기\n",
        "#외부에서 파일 가져올 경우 경로를 다음과 같이 설정\n",
        "#/gdrive/My Drive/(하위 경로)"
      ],
      "execution_count": 12,
      "outputs": [
        {
          "output_type": "stream",
          "text": [
            "Go to this URL in a browser: https://accounts.google.com/o/oauth2/auth?client_id=947318989803-6bn6qk8qdgf4n4g3pfee6491hc0brc4i.apps.googleusercontent.com&redirect_uri=urn%3aietf%3awg%3aoauth%3a2.0%3aoob&response_type=code&scope=email%20https%3a%2f%2fwww.googleapis.com%2fauth%2fdocs.test%20https%3a%2f%2fwww.googleapis.com%2fauth%2fdrive%20https%3a%2f%2fwww.googleapis.com%2fauth%2fdrive.photos.readonly%20https%3a%2f%2fwww.googleapis.com%2fauth%2fpeopleapi.readonly\n",
            "\n",
            "Enter your authorization code:\n",
            "··········\n",
            "Mounted at /gdrive\n"
          ],
          "name": "stdout"
        }
      ]
    }
  ]
}